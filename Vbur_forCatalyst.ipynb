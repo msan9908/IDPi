{
 "cells": [
  {
   "cell_type": "markdown",
   "metadata": {},
   "source": [
    "# Calculate  %Vbur for 3,3' substiuent group"
   ]
  },
  {
   "cell_type": "code",
   "execution_count": null,
   "metadata": {},
   "outputs": [],
   "source": [
    "import os\n",
    "import dbstep.Dbstep as db\n",
    "\n",
    "\n",
    "directory_path = \"low_energy\"  # Replace with the actual path to your directory\n",
    "output_file = \"results.txt\"\n",
    "\n",
    "\n",
    "filename_list_file = \"Atom_IDs.txt\"  # Replace with the actual path to your filename list file\n",
    "\n",
    "directory_path = \"low_energy\"  # Replace with the actual path to your directory\n",
    "output_file = \"results35.txt\"\n",
    "# Read the filenames from the specified file\n",
    "with open(filename_list_file, \"r\") as filename_list:\n",
    "    target_filenames = [line.split()[1] for line in filename_list.readlines() if line.strip()]\n",
    "with open(filename_list_file, \"r\") as filename_list:\n",
    "    AIDs= [line.split()[3] for line in filename_list.readlines() if line.strip()]\n",
    "\n",
    "# Open the output file in write mode\n",
    "with open(output_file, \"w\") as file:\n",
    "\n",
    "    # Iterate over the target filenames\n",
    "    for i in range(len(target_filenames)):\n",
    "        target_filename = target_filenames[i]\n",
    "        AID = AIDs[i]\n",
    "        file_path = os.path.join(directory_path, target_filename)\n",
    "        \n",
    "        # Run db.dbstep command for each target file\n",
    "        \n",
    "        # Use subprocess to run the command\n",
    "        result = db.dbstep(file_path,AID, commandline=True,volume=True,measure='classic',r=7.5)\n",
    "            #result = subprocess.run(command, shell=True, capture_output=True, text=True)\n",
    "        result = result.bur_vol\n",
    "            # Write results to the output file\n",
    "        file.write(f\"Results for file {target_filename}:    {result}\\n\")\n"
   ]
  }
 ],
 "metadata": {
  "kernelspec": {
   "display_name": "base",
   "language": "python",
   "name": "python3"
  },
  "language_info": {
   "name": "python",
   "version": "3.8.8"
  },
  "orig_nbformat": 4
 },
 "nbformat": 4,
 "nbformat_minor": 2
}
